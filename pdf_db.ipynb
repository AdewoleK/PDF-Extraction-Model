{
 "cells": [
  {
   "cell_type": "code",
   "execution_count": 1,
   "metadata": {},
   "outputs": [
    {
     "name": "stdout",
     "output_type": "stream",
     "text": [
      "Table extraction complete and data saved to JSON.\n"
     ]
    }
   ],
   "source": [
    "import os\n",
    "import fitz  # PyMuPDF\n",
    "import pytesseract\n",
    "from PIL import Image\n",
    "import pandas as pd\n",
    "import json\n",
    "\n",
    "# Configure Tesseract OCR (ensure tesseract is installed and path is set)\n",
    "pytesseract.pytesseract.tesseract_cmd = r'C:\\Program Files\\Tesseract-OCR\\tesseract.exe'\n",
    "\n",
    "# Function to extract tables from PDF (basic approach using OCR)\n",
    "def extract_tables(pdf_path):\n",
    "    tables = []\n",
    "    with fitz.open(pdf_path) as pdf:\n",
    "        for page_num, page in enumerate(pdf):\n",
    "            pix = page.get_pixmap()\n",
    "            img = Image.frombytes(\"RGB\", [pix.width, pix.height], pix.samples)\n",
    "            ocr_result = pytesseract.image_to_string(img, config='--psm 6')\n",
    "            tables.append({\"page\": page_num + 1, \"table\": ocr_result})\n",
    "    return tables\n",
    "\n",
    "# Function to save extracted data to JSON\n",
    "def save_to_json(data, output_file):\n",
    "    with open(output_file, \"w\", encoding=\"utf-8\") as json_file:\n",
    "        json.dump(data, json_file, ensure_ascii=False, indent=4)\n",
    "\n",
    "# Main function to process PDFs in bulk\n",
    "def process_pdfs(pdf_folder, output_folder):\n",
    "    if not os.path.exists(output_folder):\n",
    "        os.makedirs(output_folder)\n",
    "\n",
    "    all_extracted_data = {}\n",
    "\n",
    "    for pdf_file in os.listdir(pdf_folder):\n",
    "        if pdf_file.endswith(\".pdf\"):\n",
    "            pdf_path = os.path.join(pdf_folder, pdf_file)\n",
    "            \n",
    "            # Extract tables\n",
    "            table_data = extract_tables(pdf_path)\n",
    "            all_extracted_data[pdf_file] = table_data\n",
    "\n",
    "    # Save all extracted data to a JSON file\n",
    "    output_file = os.path.join(output_folder, \"extracted_tables.json\")\n",
    "    save_to_json(all_extracted_data, output_file)\n",
    "\n",
    "# Example usage\n",
    "if __name__ == \"__main__\":\n",
    "    pdf_folder = \"C:/Users/ADEWOLE/Desktop/Kehinde/Pdf to database/PDF\"  # Folder containing PDFs\n",
    "    output_folder = \"extracted_tables\"  # Folder to save extracted JSON data\n",
    "    process_pdfs(pdf_folder, output_folder)\n",
    "    print(\"Table extraction complete and data saved to JSON.\")\n"
   ]
  }
 ],
 "metadata": {
  "kernelspec": {
   "display_name": "Python 3",
   "language": "python",
   "name": "python3"
  },
  "language_info": {
   "codemirror_mode": {
    "name": "ipython",
    "version": 3
   },
   "file_extension": ".py",
   "mimetype": "text/x-python",
   "name": "python",
   "nbconvert_exporter": "python",
   "pygments_lexer": "ipython3",
   "version": "3.12.5"
  }
 },
 "nbformat": 4,
 "nbformat_minor": 2
}
